{
 "cells": [
  {
   "cell_type": "markdown",
   "metadata": {},
   "source": [
    "Load and Filter Data"
   ]
  },
  {
   "cell_type": "code",
   "execution_count": 5,
   "metadata": {},
   "outputs": [
    {
     "data": {
      "text/html": [
       "<div>\n",
       "<style scoped>\n",
       "    .dataframe tbody tr th:only-of-type {\n",
       "        vertical-align: middle;\n",
       "    }\n",
       "\n",
       "    .dataframe tbody tr th {\n",
       "        vertical-align: top;\n",
       "    }\n",
       "\n",
       "    .dataframe thead th {\n",
       "        text-align: right;\n",
       "    }\n",
       "</style>\n",
       "<table border=\"1\" class=\"dataframe\">\n",
       "  <thead>\n",
       "    <tr style=\"text-align: right;\">\n",
       "      <th></th>\n",
       "      <th>event.lat</th>\n",
       "      <th>event.lon</th>\n",
       "      <th>event.date</th>\n",
       "      <th>event.time</th>\n",
       "      <th>event.latitude</th>\n",
       "      <th>event.longitude</th>\n",
       "      <th>event.brightness</th>\n",
       "      <th>event.scan</th>\n",
       "      <th>event.track</th>\n",
       "      <th>event.acq_date</th>\n",
       "      <th>...</th>\n",
       "      <th>weather.tavg</th>\n",
       "      <th>weather.tmin</th>\n",
       "      <th>weather.tmax</th>\n",
       "      <th>weather.prcp</th>\n",
       "      <th>weather.snow</th>\n",
       "      <th>weather.wdir</th>\n",
       "      <th>weather.wspd</th>\n",
       "      <th>weather.wpgt</th>\n",
       "      <th>weather.pres</th>\n",
       "      <th>weather.tsun</th>\n",
       "    </tr>\n",
       "  </thead>\n",
       "  <tbody>\n",
       "  </tbody>\n",
       "</table>\n",
       "<p>0 rows × 27 columns</p>\n",
       "</div>"
      ],
      "text/plain": [
       "Empty DataFrame\n",
       "Columns: [event.lat, event.lon, event.date, event.time, event.latitude, event.longitude, event.brightness, event.scan, event.track, event.acq_date, event.acq_time, event.satellite, event.confidence, event.version, event.bright_t31, event.frp, event.daynight, weather.tavg, weather.tmin, weather.tmax, weather.prcp, weather.snow, weather.wdir, weather.wspd, weather.wpgt, weather.pres, weather.tsun]\n",
       "Index: []\n",
       "\n",
       "[0 rows x 27 columns]"
      ]
     },
     "execution_count": 5,
     "metadata": {},
     "output_type": "execute_result"
    }
   ],
   "source": [
    "import json\n",
    "import pandas as pd\n",
    "import numpy as np\n",
    "\n",
    "# Load merged data\n",
    "with open('../data/merged_firms_weather.json', 'r') as f:\n",
    "    merged = json.load(f)\n",
    "\n",
    "# Flatten and filter out rows with missing weather\n",
    "df = pd.json_normalize(merged)\n",
    "df = df[df['weather'].notnull()].reset_index(drop=True)\n",
    "\n",
    "# Expand weather dict into columns\n",
    "weather_df = pd.json_normalize(df['weather'])\n",
    "df = pd.concat([df, weather_df], axis=1)\n",
    "df = df.drop(columns=['weather'])\n",
    "df.head()"
   ]
  },
  {
   "cell_type": "code",
   "execution_count": null,
   "metadata": {},
   "outputs": [],
   "source": [
    "print(df.columns)"
   ]
  },
  {
   "cell_type": "markdown",
   "metadata": {},
   "source": [
    "Handle Missing Values"
   ]
  },
  {
   "cell_type": "code",
   "execution_count": null,
   "metadata": {},
   "outputs": [],
   "source": [
    "# Check missing values\n",
    "print(df.isnull().sum())\n",
    "\n",
    "# Fill NaNs with column mean (or use another strategy)\n",
    "df = df.fillna(df.mean(numeric_only=True))"
   ]
  },
  {
   "cell_type": "markdown",
   "metadata": {},
   "source": [
    "Feature Selection/Creation"
   ]
  },
  {
   "cell_type": "code",
   "execution_count": null,
   "metadata": {},
   "outputs": [],
   "source": [
    "df['temp_range'] = df['weather.tmax'] - df['weather.tmin']\n",
    "\n",
    "features = [\n",
    "    'weather.tavg', 'weather.tmin', 'weather.tmax', 'weather.prcp', 'weather.wspd', 'weather.pres', 'temp_range'\n",
    "]\n",
    "target = 'event.brightness'\n",
    "X = df[features]\n",
    "y = df[target].astype(float)"
   ]
  },
  {
   "cell_type": "markdown",
   "metadata": {},
   "source": [
    "Handle Missing Values"
   ]
  },
  {
   "cell_type": "code",
   "execution_count": 12,
   "metadata": {},
   "outputs": [],
   "source": [
    "df = df.fillna(df.mean(numeric_only=True))"
   ]
  },
  {
   "cell_type": "markdown",
   "metadata": {},
   "source": [
    "Export Cleaned Data"
   ]
  },
  {
   "cell_type": "code",
   "execution_count": 13,
   "metadata": {},
   "outputs": [],
   "source": [
    "# Save to CSV for modeling\n",
    "df.to_csv('../data/cleaned_firms_weather.csv', index=False)"
   ]
  },
  {
   "cell_type": "markdown",
   "metadata": {},
   "source": [
    "Quick Visualization"
   ]
  },
  {
   "cell_type": "code",
   "execution_count": null,
   "metadata": {},
   "outputs": [],
   "source": [
    "import matplotlib.pyplot as plt\n",
    "import seaborn as sns\n",
    "\n",
    "sns.pairplot(df[features + [target]])\n",
    "plt.show()"
   ]
  }
 ],
 "metadata": {
  "kernelspec": {
   "display_name": "Python 3",
   "language": "python",
   "name": "python3"
  },
  "language_info": {
   "codemirror_mode": {
    "name": "ipython",
    "version": 3
   },
   "file_extension": ".py",
   "mimetype": "text/x-python",
   "name": "python",
   "nbconvert_exporter": "python",
   "pygments_lexer": "ipython3",
   "version": "3.13.3"
  }
 },
 "nbformat": 4,
 "nbformat_minor": 2
}
