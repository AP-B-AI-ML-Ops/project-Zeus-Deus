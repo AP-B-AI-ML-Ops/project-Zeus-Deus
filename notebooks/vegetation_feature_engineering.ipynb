{
 "cells": [
  {
   "cell_type": "code",
   "execution_count": null,
   "metadata": {},
   "outputs": [],
   "source": [
    "import pandas as pd\n",
    "import numpy as np\n",
    "import matplotlib.pyplot as plt\n",
    "import seaborn as sns\n",
    "import os\n",
    "import json\n",
    "from sklearn.preprocessing import StandardScaler"
   ]
  },
  {
   "cell_type": "code",
   "execution_count": null,
   "metadata": {},
   "outputs": [],
   "source": [
    "# Load merged data\n",
    "merged_data_path = os.path.join('..', 'data', 'merged_firms_weather.json')\n",
    "with open(merged_data_path, 'r') as f:\n",
    "    data = json.load(f)"
   ]
  },
  {
   "cell_type": "code",
   "execution_count": null,
   "metadata": {},
   "outputs": [],
   "source": [
    "# Convert to DataFrame for easier manipulation\n",
    "records = []\n",
    "for item in data:\n",
    "    record = {}\n",
    "    # Extract event data\n",
    "    for key, value in item['event'].items():\n",
    "        record[f\"event_{key}\"] = value\n",
    "    \n",
    "    # Extract weather data\n",
    "    if item['weather']:\n",
    "        for key, value in item['weather'].items():\n",
    "            record[f\"weather_{key}\"] = value\n",
    "    \n",
    "    # Extract vegetation data\n",
    "    if item.get('vegetation'):\n",
    "        for key, value in item['vegetation'].items():\n",
    "            record[f\"vegetation_{key}\"] = value\n",
    "    \n",
    "    records.append(record)\n",
    "\n",
    "df = pd.DataFrame(records)"
   ]
  },
  {
   "cell_type": "markdown",
   "metadata": {},
   "source": [
    "# Feature Engineering"
   ]
  },
  {
   "cell_type": "code",
   "execution_count": null,
   "metadata": {},
   "outputs": [],
   "source": [
    "# 1. Calculate NDVI anomaly\n",
    "# This measures how much the current NDVI deviates from historical averages\n",
    "# For demonstration, we'll use a simple approach - actual implementation would use historical data\n",
    "if 'vegetation_ndvi' in df.columns:\n",
    "    # Simulated historical average NDVI (would come from historical data)\n",
    "    # Group by location (rounded lat/lon) to get typical NDVI values for each area\n",
    "    location_avg_ndvi = df.groupby(['event_latitude', 'event_longitude'])['vegetation_ndvi'].mean()\n",
    "    \n",
    "    # Add this back to the dataframe\n",
    "    for idx, row in df.iterrows():\n",
    "        lat = row['event_latitude']\n",
    "        lon = row['event_longitude']\n",
    "        if (lat, lon) in location_avg_ndvi:\n",
    "            df.at[idx, 'ndvi_historical_avg'] = location_avg_ndvi[(lat, lon)]\n",
    "    \n",
    "    # Calculate anomaly\n",
    "    df['ndvi_anomaly'] = df['vegetation_ndvi'] - df['ndvi_historical_avg']\n"
   ]
  },
  {
   "cell_type": "code",
   "execution_count": null,
   "metadata": {},
   "outputs": [],
   "source": [
    "# 2. Calculate Normalized Difference Water Index (NDWI)\n",
    "# For demonstration - in real implementation, would come from satellite data\n",
    "# NDWI = (NIR - SWIR) / (NIR + SWIR)\n",
    "# We'll simulate NDWI based on NDVI and precipitation for this example\n",
    "if 'vegetation_ndvi' in df.columns and 'weather_precip' in df.columns:\n",
    "    # This is a simplified approximation - real NDWI would come from satellite data\n",
    "    df['ndwi_approx'] = 0.5 * df['vegetation_ndvi'] + 0.5 * np.log1p(df['weather_precip'] + 1)\n"
   ]
  },
  {
   "cell_type": "code",
   "execution_count": null,
   "metadata": {},
   "outputs": [],
   "source": [
    "# 3. Calculate Vegetation Health Index (VHI)\n",
    "# VHI combines vegetation and temperature information\n",
    "if 'vegetation_ndvi' in df.columns and 'weather_temp' in df.columns:\n",
    "    # Standardize NDVI and temperature\n",
    "    scaler = StandardScaler()\n",
    "    if df['vegetation_ndvi'].notna().any() and df['weather_temp'].notna().any():\n",
    "        ndvi_std = scaler.fit_transform(df[['vegetation_ndvi']])\n",
    "        temp_std = scaler.fit_transform(df[['weather_temp']])\n",
    "        \n",
    "        # Higher temps typically mean lower vegetation health\n",
    "        # VHI = 0.5 * (NDVI factor) + 0.5 * (Temperature factor)\n",
    "        df['vhi'] = 0.5 * ndvi_std.flatten() - 0.5 * temp_std.flatten()\n"
   ]
  },
  {
   "cell_type": "code",
   "execution_count": null,
   "metadata": {},
   "outputs": [],
   "source": [
    "# 4. Create time-based features related to vegetation seasonal cycles\n",
    "if 'event_date' in df.columns:\n",
    "    df['event_date'] = pd.to_datetime(df['event_date'])\n",
    "    df['day_of_year'] = df['event_date'].dt.dayofyear\n",
    "    \n",
    "    # Calculate days since peak greenness (approximated as day 180 - summer in Northern Hemisphere)\n",
    "    df['days_from_peak_greenness'] = abs(df['day_of_year'] - 180)\n"
   ]
  },
  {
   "cell_type": "markdown",
   "metadata": {},
   "source": [
    "# Visualize relationships\n"
   ]
  },
  {
   "cell_type": "code",
   "execution_count": null,
   "metadata": {},
   "outputs": [],
   "source": [
    "# NDVI vs Fire Occurrence\n",
    "plt.figure(figsize=(10, 6))\n",
    "sns.boxplot(x='vegetation_ndvi', data=df)\n",
    "plt.title('NDVI Distribution in Fire Events')\n",
    "plt.tight_layout()\n",
    "plt.show()\n"
   ]
  },
  {
   "cell_type": "code",
   "execution_count": null,
   "metadata": {},
   "outputs": [],
   "source": [
    "# NDVI vs Temperature\n",
    "if 'vegetation_ndvi' in df.columns and 'weather_temp' in df.columns:\n",
    "    plt.figure(figsize=(10, 6))\n",
    "    sns.scatterplot(x='weather_temp', y='vegetation_ndvi', data=df)\n",
    "    plt.title('NDVI vs Temperature')\n",
    "    plt.tight_layout()\n",
    "    plt.show()\n"
   ]
  },
  {
   "cell_type": "code",
   "execution_count": null,
   "metadata": {},
   "outputs": [],
   "source": [
    "# NDVI Anomaly vs Temperature\n",
    "if 'ndvi_anomaly' in df.columns and 'weather_temp' in df.columns:\n",
    "    plt.figure(figsize=(10, 6))\n",
    "    sns.scatterplot(x='weather_temp', y='ndvi_anomaly', data=df)\n",
    "    plt.title('NDVI Anomaly vs Temperature')\n",
    "    plt.axhline(y=0, color='r', linestyle='-')\n",
    "    plt.tight_layout()\n",
    "    plt.show()\n"
   ]
  },
  {
   "cell_type": "code",
   "execution_count": null,
   "metadata": {},
   "outputs": [],
   "source": [
    "# Save enhanced features\n",
    "df.to_csv(os.path.join('..', 'data', 'enhanced_features.csv'), index=False)\n",
    "print(f\"Enhanced features saved to {os.path.join('..', 'data', 'enhanced_features.csv')}\")"
   ]
  }
 ],
 "metadata": {
  "kernelspec": {
   "display_name": "Python 3",
   "language": "python",
   "name": "python3"
  },
  "language_info": {
   "codemirror_mode": {
    "name": "ipython",
    "version": 3
   },
   "file_extension": ".py",
   "mimetype": "text/x-python",
   "name": "python",
   "nbconvert_exporter": "python",
   "pygments_lexer": "ipython3",
   "version": "3.13.3"
  }
 },
 "nbformat": 4,
 "nbformat_minor": 2
}
